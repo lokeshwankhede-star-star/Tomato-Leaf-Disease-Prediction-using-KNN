{
 "cells": [
  {
   "cell_type": "code",
   "execution_count": 9,
   "id": "393b67a4",
   "metadata": {},
   "outputs": [],
   "source": [
    "import os\n",
    "import cv2\n",
    "import numpy as np\n",
    "from sklearn.neighbors import KNeighborsClassifier\n",
    "from sklearn.model_selection import train_test_split\n",
    "from sklearn.metrics import accuracy_score, confusion_matrix\n",
    "import seaborn as sns\n",
    "import matplotlib.pyplot as plt"
   ]
  },
  {
   "cell_type": "code",
   "execution_count": 17,
   "id": "fc53988c",
   "metadata": {},
   "outputs": [],
   "source": [
    "from skimage import io"
   ]
  },
  {
   "cell_type": "code",
   "execution_count": 19,
   "id": "c1d44d4f",
   "metadata": {},
   "outputs": [],
   "source": [
    "from sklearn.metrics import classification_report, confusion_matrix\n",
    "from skimage import io\n",
    "from skimage.transform import resize\n",
    "from sklearn.model_selection import train_test_split"
   ]
  },
  {
   "cell_type": "code",
   "execution_count": 11,
   "id": "e44a4108",
   "metadata": {},
   "outputs": [],
   "source": [
    "\n",
    "# Define the directories for the tomato images with and without disease\n",
    "disease_dir = \"C:/Users/LOKESH/OneDrive/Desktop/Dataset\"\n",
    "healthy_dir = \"E:/Healthy\"\n"
   ]
  },
  {
   "cell_type": "code",
   "execution_count": 12,
   "id": "692ce9a7",
   "metadata": {},
   "outputs": [],
   "source": [
    "\n",
    "# Load the dataset of tomato images\n",
    "X = []  # List to store the image data\n",
    "y = []  # List to store the labels\n"
   ]
  },
  {
   "cell_type": "code",
   "execution_count": 20,
   "id": "cbbef89b",
   "metadata": {},
   "outputs": [],
   "source": [
    "\n",
    "# loop through the dataset and extract features and labels\n",
    "for subdir, dirs, files in os.walk(disease_dir):\n",
    "    for file in files:\n",
    "        # load the image and resize it\n",
    "        image_path = os.path.join(subdir, file)\n",
    "        image = io.imread(image_path)\n",
    "        resized_image = resize(image, (64, 64), anti_aliasing=True)\n",
    "        # extract features from the resized image and add it to the X list\n",
    "        X.append(resized_image)\n",
    "        y.append(1)\n",
    "#         features = np.array(resized_image).flatten()\n",
    "#         X.append(features)\n",
    "#         # extract the label from the filename and add it to the y list\n",
    "#         label = subdir.split(os.path.sep)[-1]\n",
    "#         y.append(label)\n"
   ]
  },
  {
   "cell_type": "code",
   "execution_count": 21,
   "id": "c8a6cc77",
   "metadata": {},
   "outputs": [],
   "source": [
    "\n",
    "# Add healthy tomato images to the dataset\n",
    "for img_file in os.listdir(healthy_dir):\n",
    "    img = cv2.imread(os.path.join(healthy_dir, img_file))\n",
    "    img = cv2.resize(img, (64, 64))  # Resize image to 64x64 pixels\n",
    "    X.append(img)\n",
    "    y.append(0)  # Label for healthy tomato image is 0\n",
    "    "
   ]
  },
  {
   "cell_type": "code",
   "execution_count": 23,
   "id": "2a750131",
   "metadata": {},
   "outputs": [],
   "source": [
    "\n",
    "# Convert the lists to numpy arrays\n",
    "X = np.array(X)\n",
    "y = np.array(y)\n"
   ]
  },
  {
   "cell_type": "code",
   "execution_count": 24,
   "id": "d8b3b537",
   "metadata": {},
   "outputs": [],
   "source": [
    "\n",
    "# Split the dataset into training and testing sets\n",
    "X_train, X_test, y_train, y_test = train_test_split(X, y, test_size=0.2)\n"
   ]
  },
  {
   "cell_type": "code",
   "execution_count": 25,
   "id": "739076a9",
   "metadata": {},
   "outputs": [],
   "source": [
    "\n",
    "# Flatten the image data\n",
    "X_train = X_train.reshape(X_train.shape[0], -1)\n",
    "X_test = X_test.reshape(X_test.shape[0], -1)\n"
   ]
  },
  {
   "cell_type": "code",
   "execution_count": 26,
   "id": "5688475e",
   "metadata": {},
   "outputs": [],
   "source": [
    "\n",
    "# Create KNN classifier with k=5 neighbors\n",
    "clf = KNeighborsClassifier(n_neighbors=5)\n"
   ]
  },
  {
   "cell_type": "code",
   "execution_count": 27,
   "id": "67479269",
   "metadata": {},
   "outputs": [
    {
     "data": {
      "text/plain": [
       "KNeighborsClassifier()"
      ]
     },
     "execution_count": 27,
     "metadata": {},
     "output_type": "execute_result"
    }
   ],
   "source": [
    "\n",
    "# Train the classifier on the training set\n",
    "clf.fit(X_train, y_train)\n"
   ]
  },
  {
   "cell_type": "code",
   "execution_count": 28,
   "id": "340ac77d",
   "metadata": {},
   "outputs": [],
   "source": [
    "\n",
    "# Predict the labels for the testing set\n",
    "y_pred = clf.predict(X_test)\n"
   ]
  },
  {
   "cell_type": "code",
   "execution_count": 29,
   "id": "7e390d04",
   "metadata": {},
   "outputs": [],
   "source": [
    "\n",
    "# Calculate the accuracy of the classifier\n",
    "accuracy = accuracy_score(y_test, y_pred)"
   ]
  },
  {
   "cell_type": "code",
   "execution_count": 30,
   "id": "1370df09",
   "metadata": {},
   "outputs": [
    {
     "name": "stdout",
     "output_type": "stream",
     "text": [
      "Accuracy of KNN classifier: 1.0\n"
     ]
    }
   ],
   "source": [
    "\n",
    "# Print the accuracy of the classifier\n",
    "print(f\"Accuracy of KNN classifier: {accuracy}\")\n"
   ]
  },
  {
   "cell_type": "code",
   "execution_count": 31,
   "id": "b6392a05",
   "metadata": {},
   "outputs": [],
   "source": [
    "\n",
    "# Generate the confusion matrix\n",
    "cm = confusion_matrix(y_test, y_pred)\n"
   ]
  },
  {
   "cell_type": "code",
   "execution_count": 32,
   "id": "68b417c2",
   "metadata": {},
   "outputs": [
    {
     "data": {
      "text/plain": [
       "<Figure size 360x360 with 0 Axes>"
      ]
     },
     "execution_count": 32,
     "metadata": {},
     "output_type": "execute_result"
    },
    {
     "data": {
      "text/plain": [
       "<Figure size 360x360 with 0 Axes>"
      ]
     },
     "metadata": {},
     "output_type": "display_data"
    }
   ],
   "source": [
    "\n",
    "# Plot the confusion matrix using Seaborn\n",
    "plt.figure(figsize=(5,5))\n"
   ]
  },
  {
   "cell_type": "code",
   "execution_count": 33,
   "id": "25c775e8",
   "metadata": {},
   "outputs": [
    {
     "data": {
      "image/png": "[encoded data removed]",
      "text/plain": [
       "<Figure size 432x288 with 1 Axes>"
      ]
     },
     "metadata": {
      "needs_background": "light"
     },
     "output_type": "display_data"
    }
   ],
   "source": [
    "sns.heatmap(cm, annot=True, cmap=\"Blues\", fmt=\"d\", cbar=False,\n",
    "            xticklabels=[\"Healthy\", \"Diseased\"], yticklabels=[\"Healthy\", \"Diseased\"])\n",
    "plt.title(\"Confusion Matrix for KNN Classifier\")\n",
    "plt.xlabel(\"Predicted Labels\")\n",
    "plt.ylabel(\"True Labels\")\n",
    "plt.show()"
   ]
  },
  {
   "cell_type": "code",
   "execution_count": 36,
   "id": "1944deb9",
   "metadata": {},
   "outputs": [
    {
     "name": "stdout",
     "output_type": "stream",
     "text": [
      "Classification Report:\n",
      "               precision    recall  f1-score   support\n",
      "\n",
      "           0       1.00      1.00      1.00        24\n",
      "           1       1.00      1.00      1.00       511\n",
      "\n",
      "    accuracy                           1.00       535\n",
      "   macro avg       1.00      1.00      1.00       535\n",
      "weighted avg       1.00      1.00      1.00       535\n",
      "\n"
     ]
    }
   ],
   "source": [
    "print(\"Classification Report:\\n\", classification_report(y_test, y_pred))"
   ]
  },
  {
   "cell_type": "code",
   "execution_count": 35,
   "id": "7ab391be",
   "metadata": {},
   "outputs": [
    {
     "name": "stdout",
     "output_type": "stream",
     "text": [
      "Confusion Matrix:\n",
      " [[ 24   0]\n",
      " [  0 511]]\n"
     ]
    }
   ],
   "source": [
    "print(\"Confusion Matrix:\\n\", confusion_matrix(y_test, y_pred))"
   ]
  },
  {
   "cell_type": "code",
   "execution_count": 37,
   "id": "128b1ae9",
   "metadata": {},
   "outputs": [],
   "source": [
    "# import necessary libraries\n",
    "import numpy as np\n",
    "from sklearn import svm\n",
    "from skimage import io\n",
    "from skimage.transform import resize"
   ]
  },
  {
   "cell_type": "code",
   "execution_count": 54,
   "id": "7a52b87b",
   "metadata": {},
   "outputs": [],
   "source": [
    "# load the testing image\n",
    "testing_image = io.imread(\"C:/Users/LOKESH/OneDrive/Desktop/Dataset/Leaf_Mold/0a555f63-bf03-4958-8993-e1932b8dce9f___Crnl_L.Mold 9064.JPG\")\n",
    "resized_image = resize(testing_image, (64, 64), anti_aliasing=True)\n",
    "image_data = np.array(resized_image).reshape(1, -1)"
   ]
  },
  {
   "cell_type": "code",
   "execution_count": 56,
   "id": "46623897",
   "metadata": {},
   "outputs": [
    {
     "name": "stdout",
     "output_type": "stream",
     "text": [
      "The testing image has tomato disease.\n"
     ]
    }
   ],
   "source": [
    "# use the trained knn model to predict the class of the testing image\n",
    "predicted_class = clf.predict(image_data)\n",
    "# print the predicted class\n",
    "if predicted_class == 0:\n",
    "    print(\"The testing image does not have tomato disease.\")\n",
    "else:\n",
    "    print(\"The testing image has tomato disease.\")"
   ]
  },
  {
   "cell_type": "code",
   "execution_count": 49,
   "id": "25d831df",
   "metadata": {},
   "outputs": [],
   "source": [
    "# load the testing image\n",
    "testing_image2 = io.imread(\"E:/Healthy/000bf685-b305-408b-91f4-37030f8e62db___GH_HL Leaf 308.1_flipTB.jpg\")\n",
    "resized_image2 = resize(testing_image2, (64, 64), anti_aliasing=True)\n",
    "image_data2 = np.array(resized_image2).reshape(1, -1)"
   ]
  },
  {
   "cell_type": "code",
   "execution_count": 57,
   "id": "1cb55c3f",
   "metadata": {},
   "outputs": [
    {
     "name": "stdout",
     "output_type": "stream",
     "text": [
      "The testing image has tomato disease.\n"
     ]
    }
   ],
   "source": [
    "# use the trained knn model to predict the class of the testing image\n",
    "predicted_class = clf.predict(image_data2)\n",
    "# print the predicted class\n",
    "if predicted_class == 0:\n",
    "    print(\"The testing image does not have tomato disease.\")\n",
    "else:\n",
    "    print(\"The testing image has tomato disease.\")"
   ]
  },
  {
   "cell_type": "code",
   "execution_count": null,
   "id": "cf0eb0f9",
   "metadata": {},
   "outputs": [],
   "source": []
  }
 ],
 "metadata": {
  "kernelspec": {
   "display_name": "Python 3 (ipykernel)",
   "language": "python",
   "name": "python3"
  },
  "language_info": {
   "codemirror_mode": {
    "name": "ipython",
    "version": 3
   },
   "file_extension": ".py",
   "mimetype": "text/x-python",
   "name": "python",
   "nbconvert_exporter": "python",
   "pygments_lexer": "ipython3",
   "version": "3.9.12"
  }
 },
 "nbformat": 4,
 "nbformat_minor": 5
}
